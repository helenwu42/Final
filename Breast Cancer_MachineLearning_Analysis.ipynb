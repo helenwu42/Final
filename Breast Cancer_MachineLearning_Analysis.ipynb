{
 "cells": [
  {
   "cell_type": "markdown",
   "metadata": {},
   "source": [
    "# Title: \"Breast Cancer Prediction from Data\"\n",
    "\n"
   ]
  },
  {
   "cell_type": "markdown",
   "metadata": {},
   "source": [
    "## Problem \n",
    "\n",
    "The objective of the breast cancer study is to build a predictive model that will help us in predicting the diagnosis the breast cancer as Malignant or Benign accurately with the most important feature data points. \n",
    "\n",
    "In order to predict, approach is to determine the significance of the features characterstics; the radius, smoothness, compactness etc. of the distribution of cells), while the output as binary categories, i.e., benign or malign.\n",
    "\n",
    "The purpose is to execute strategies such as feature reduction, feature scaling by standardization, decision trees , applying Machine learning models & apply a binary classification algorithm and iterate the process, until performance saturates.\n",
    "\n"
   ]
  },
  {
   "cell_type": "markdown",
   "metadata": {},
   "source": [
    "## Data Description\n",
    "The dataset has 569 rows and 33 columns. Amongst the 33 columns, the first two are ID number and Diagnonsis (M=malignant, B = benign). And the last column is an unnamed column with only NaN values, so it is removed right away. The other 30 columns correspond to mean, standard deviation and the largest values (points on the tails) of the distributions of the following 10 features computed for the cell nuclei;\n",
    "### data.csv\n",
    "\n",
    "1. ID number\n",
    "2. radius (mean of distances from center to points on the perimeter)\n",
    "3. texture (standard deviation of gray-scale values)\n",
    "4. perimeter\n",
    "5. area\n",
    "6. smoothness (local variation in radius lengths)\n",
    "7. concavity (severity of concave portions of the contour)\n",
    "8. concave points (number of concave portions of the contour)\n",
    "8. symmetry\n",
    "10. fractal dimension (\"coastline approximation\" - 1)\n",
    "\n",
    "All feature values are recorded with four significant digits. The class distribution of the samples is such that 357 are benign and 212 are malignant, which is imbalanced, but not so bad.\n",
    "Note: Mean, Standard Error (SE) and Worst (mean of the three largest values) of these features are obtained from each image, resulting in 30 features."
   ]
  },
  {
   "cell_type": "markdown",
   "metadata": {},
   "source": [
    "## Importing the Libraries"
   ]
  },
  {
   "cell_type": "code",
   "execution_count": 1,
   "metadata": {},
   "outputs": [
    {
     "ename": "ModuleNotFoundError",
     "evalue": "No module named 'dtreeviz'",
     "output_type": "error",
     "traceback": [
      "\u001b[1;31m---------------------------------------------------------------------------\u001b[0m",
      "\u001b[1;31mModuleNotFoundError\u001b[0m                       Traceback (most recent call last)",
      "\u001b[1;32m<ipython-input-1-2811238ee3f9>\u001b[0m in \u001b[0;36m<module>\u001b[1;34m()\u001b[0m\n\u001b[0;32m     10\u001b[0m \u001b[1;32mfrom\u001b[0m \u001b[0msklearn\u001b[0m\u001b[1;33m.\u001b[0m\u001b[0mmodel_selection\u001b[0m \u001b[1;32mimport\u001b[0m \u001b[0mcross_val_score\u001b[0m\u001b[1;33m\u001b[0m\u001b[0m\n\u001b[0;32m     11\u001b[0m \u001b[1;32mfrom\u001b[0m \u001b[0msklearn\u001b[0m\u001b[1;33m.\u001b[0m\u001b[0mneural_network\u001b[0m \u001b[1;32mimport\u001b[0m \u001b[0mMLPClassifier\u001b[0m\u001b[1;33m\u001b[0m\u001b[0m\n\u001b[1;32m---> 12\u001b[1;33m \u001b[1;32mfrom\u001b[0m \u001b[0mdtreeviz\u001b[0m\u001b[1;33m.\u001b[0m\u001b[0mtrees\u001b[0m \u001b[1;32mimport\u001b[0m \u001b[1;33m*\u001b[0m\u001b[1;33m\u001b[0m\u001b[0m\n\u001b[0m\u001b[0;32m     13\u001b[0m \u001b[1;32mfrom\u001b[0m \u001b[0mIPython\u001b[0m\u001b[1;33m.\u001b[0m\u001b[0mdisplay\u001b[0m \u001b[1;32mimport\u001b[0m \u001b[0mImage\u001b[0m\u001b[1;33m,\u001b[0m \u001b[0mdisplay_svg\u001b[0m\u001b[1;33m\u001b[0m\u001b[0m\n\u001b[0;32m     14\u001b[0m \u001b[1;32mimport\u001b[0m \u001b[0mkeras\u001b[0m\u001b[1;33m\u001b[0m\u001b[0m\n",
      "\u001b[1;31mModuleNotFoundError\u001b[0m: No module named 'dtreeviz'"
     ]
    }
   ],
   "source": [
    "%matplotlib inline\n",
    "import matplotlib.pyplot as plt\n",
    "import seaborn as seabornInstance\n",
    "import numpy as np\n",
    "import pandas as pd\n",
    "from sklearn import tree\n",
    "from sklearn.metrics import accuracy_score\n",
    "from sklearn.pipeline import Pipeline\n",
    "from sklearn.decomposition import PCA\n",
    "from sklearn.model_selection import cross_val_score\n",
    "from sklearn.neural_network import MLPClassifier\n",
    "from dtreeviz.trees import *\n",
    "from IPython.display import Image, display_svg\n",
    "import keras\n",
    "from keras.models import Sequential\n",
    "from keras.layers import Dense, Dropout\n",
    "\n",
    "\n",
    "\n"
   ]
  },
  {
   "cell_type": "markdown",
   "metadata": {},
   "source": [
    "## Read CSV file data"
   ]
  },
  {
   "cell_type": "code",
   "execution_count": null,
   "metadata": {},
   "outputs": [],
   "source": [
    "\n",
    "df = pd.read_csv('Resources/data.csv',  index_col=False) \n",
    "df.head()"
   ]
  },
  {
   "cell_type": "code",
   "execution_count": null,
   "metadata": {},
   "outputs": [],
   "source": [
    "## Count the missing values in each column\n",
    "df.isnull().sum()\n",
    "\n"
   ]
  },
  {
   "cell_type": "code",
   "execution_count": null,
   "metadata": {},
   "outputs": [],
   "source": [
    "## Count the NaN values in each column\n",
    "df.isna().sum()"
   ]
  },
  {
   "cell_type": "code",
   "execution_count": null,
   "metadata": {},
   "outputs": [],
   "source": [
    "#  Count the missing values in each row\n",
    "df.isnull().sum(axis=1).head()"
   ]
  },
  {
   "cell_type": "markdown",
   "metadata": {},
   "source": [
    "## Exploratory Data Analysis (EDA)"
   ]
  },
  {
   "cell_type": "code",
   "execution_count": null,
   "metadata": {
    "nbgrader": {
     "grade": false,
     "grade_id": "cell-a885840c1f62d274",
     "locked": false,
     "schema_version": 1,
     "solution": true
    }
   },
   "outputs": [],
   "source": [
    "def dataSetAnalysis(df):\n",
    "    \n",
    "    #Display the dimensions of the data set using the panda dataset ‘shape’ attribute.\n",
    "    print(\"Breast Cancer data set dimensions : {}\".format(df.shape))\n",
    "    \n",
    "    #Dsiplay starting values of data set\n",
    "    print(\"Dataset Head\")\n",
    "    print(df.head(3))\n",
    "    print(\"=\" * 30)\n",
    "    \n",
    "    # Display List of Columns/Features in the Dataset\n",
    "    print(\"Dataset Features\")\n",
    "    print(df.columns.values)\n",
    "    #print(list(df))\n",
    "    print(\"=\" * 30)\n",
    "    \n",
    "    # Display How many samples and how many missing values for each feature\n",
    "    print(\"Dataset Features Details\")\n",
    "    print(df.info())\n",
    "    print(\"=\" * 30)\n",
    "    \n",
    "    # Display distribution of numerical features across the data set\n",
    "    print(\"Dataset Numerical Features\")\n",
    "    print(df.describe())\n",
    "    print(\"=\" * 30)\n",
    "    \n",
    "    # Display distribution of categorical features across the data set\n",
    "    print(\"Dataset Categorical Features\")\n",
    "    print(df.describe(include=['O']))\n",
    "    print(\"=\" * 30)\n",
    "    \n",
    "dataSetAnalysis(df)"
   ]
  },
  {
   "cell_type": "markdown",
   "metadata": {},
   "source": [
    "## Clean Dataset - Let's determine the values of y and x axes"
   ]
  },
  {
   "cell_type": "code",
   "execution_count": null,
   "metadata": {},
   "outputs": [],
   "source": [
    "#[all rows, col from index 2 to the last one which excludes 'id' & Unnamed: 32' columns]\n",
    "X = df.iloc[:,2:32] \n",
    "#X\n",
    "#[all rows, 'diagnosis' column only which contains the classes of the cancer]\n",
    "y = df.iloc[:,1] \n",
    "#y"
   ]
  },
  {
   "attachments": {
    "image.png": {
     "image/png": "[encoded data removed]"
    }
   },
   "cell_type": "markdown",
   "metadata": {},
   "source": [
    "## Normalization\n",
    "Normalization rescales the values into a range of [0,1]. This might be useful in some cases where all parameters need to have the same positive scale. However, the outliers from the data set are lost. Because if some of our columns have very high values, they will suppress other columns and do not show much.\n",
    "\n",
    "### FORMULA:\n",
    "\n",
    "![image.png](attachment:image.png)\n"
   ]
  },
  {
   "cell_type": "code",
   "execution_count": null,
   "metadata": {},
   "outputs": [],
   "source": [
    "X = (X - np.min(X)) / (np.max(X) - np.min(X)).values\n",
    "X.head()"
   ]
  },
  {
   "cell_type": "markdown",
   "metadata": {},
   "source": [
    "##  Label Encoder\n",
    "\n",
    "Convert categorical data, or text data, into numbers using SciKit Learn Label Encoder library in Python, which our predictive models can better understand.\n",
    "\n",
    "Convert  'diagnosis'  'M' or 'B' to  Malignant or Benign, encoding them to 0 and 1.\n",
    "\n"
   ]
  },
  {
   "cell_type": "code",
   "execution_count": null,
   "metadata": {},
   "outputs": [],
   "source": [
    "#Encoding categorical data values\n",
    "from sklearn.preprocessing import LabelEncoder\n",
    "print(\"Before encoding: \")\n",
    "#print(y)\n",
    "print(y[100:110])\n",
    "labelencoder_Y = LabelEncoder()\n",
    "Y = labelencoder_Y.fit_transform(y)\n",
    "print(\"\\nAfter encoding: \")\n",
    "Y"
   ]
  },
  {
   "cell_type": "markdown",
   "metadata": {
    "nbgrader": {
     "grade": false,
     "grade_id": "cell-ec6532d8dc790021",
     "locked": false,
     "schema_version": 1,
     "solution": true
    }
   },
   "source": [
    "## Splitting Dataset\n",
    "Split our data into training and testing datasets. The data we use is usually split into training data and test data. The training set contains a known output and the model learns on this data in order to be generalized to other data later on. We have the test dataset (or subset) in order to test our model’s prediction on this subset."
   ]
  },
  {
   "cell_type": "code",
   "execution_count": null,
   "metadata": {},
   "outputs": [],
   "source": [
    "from sklearn.model_selection import train_test_split\n",
    "# Split dataset into training (80%) and test (20%) set\n",
    "X_train, X_test, Y_train, Y_test = train_test_split(X, Y, test_size = 0.2, random_state = 0)\n",
    " \n",
    "# Normalize training data & test data\n",
    "X_train_N = (X_train-X_train.mean())/(X_train.max()-X_train.min())\n",
    "X_test_N = (X_test-X_train.mean())/(X_test.max()-X_test.min())"
   ]
  },
  {
   "cell_type": "markdown",
   "metadata": {},
   "source": [
    "## FEATURE SCALING\n",
    "\n",
    "Scaling ensures that just because some features are big, the model won't lead to using them as a main predictor.\n",
    "Dataset will contain features highly varying in magnitudes, units and range. But since, most of the machine learning algorithms use Eucledian distance between two data points in their computations. We need to bring all features to the same level of magnitudes. This can be achieved by scaling. This means that you’re transforming your data so that it fits within a specific scale, like 0–100 or 0–1.\n",
    "\n",
    "We will use StandardScaler method from SciKit-Learn library."
   ]
  },
  {
   "attachments": {
    "image.png": {
     "image/png": "[encoded data removed]"
    }
   },
   "cell_type": "markdown",
   "metadata": {
    "nbgrader": {
     "grade": false,
     "grade_id": "cell-1dbfa38f409ceb7c",
     "locked": false,
     "schema_version": 1,
     "solution": true
    }
   },
   "source": [
    "## STANDARDIZATION \n",
    "Standardization rescales data to have a mean (μ) of 0 and standard deviation (σ) of 1 (unit variance). In other words, Standardize features by removing the mean and scaling to unit variance\n",
    "\n",
    "The standard score of a sample x is calculated where u is the mean of the training samples or zero if with_mean=False, and s is the standard deviation of the training samples or one if with_std=False.\n",
    "\n",
    "https://scikit-learn.org/stable/modules/generated/sklearn.preprocessing.StandardScaler.html\n",
    "\n",
    "### FORMULA:\n",
    "![image.png](attachment:image.png)"
   ]
  },
  {
   "cell_type": "code",
   "execution_count": null,
   "metadata": {
    "nbgrader": {
     "grade": false,
     "grade_id": "cell-d7adb5db2fc7b236",
     "locked": false,
     "schema_version": 1,
     "solution": true
    }
   },
   "outputs": [],
   "source": [
    "from sklearn.preprocessing import StandardScaler\n",
    "sc = StandardScaler()\n",
    "X_train = sc.fit_transform(X_train)\n",
    "X_test = sc.transform(X_test)"
   ]
  },
  {
   "cell_type": "markdown",
   "metadata": {},
   "source": [
    "## XGBOOST for Applied Machine Learning"
   ]
  },
  {
   "cell_type": "code",
   "execution_count": null,
   "metadata": {},
   "outputs": [],
   "source": [
    "#Using xgboost Algorithm to the Training Set\n",
    "from xgboost import XGBClassifier\n",
    "XGB_Model = XGBClassifier()\n",
    "XGB_Model.fit(X_train,Y_train)\n"
   ]
  },
  {
   "cell_type": "code",
   "execution_count": null,
   "metadata": {},
   "outputs": [],
   "source": [
    "XGB_y_pred = XGB_Model.predict(X_test)\n",
    "XGB_predictions = [round(value) for value in XGB_y_pred]\n",
    "XGB_accuracy = accuracy_score(Y_test, XGB_predictions)\n",
    "print(\"xgboost Accuracy: %.2f%%\" % (XGB_accuracy * 100.0))"
   ]
  },
  {
   "cell_type": "markdown",
   "metadata": {},
   "source": [
    "## LOGISTIC REGRESSION for Applied Machine Learning"
   ]
  },
  {
   "cell_type": "code",
   "execution_count": null,
   "metadata": {},
   "outputs": [],
   "source": [
    "#Using Logistic Regression Algorithm to the Training Set\n",
    "from sklearn.linear_model import LogisticRegression\n",
    "LRModel = LogisticRegression(random_state = 0)\n",
    "LRModel.fit(X_train, Y_train)\n",
    "\n"
   ]
  },
  {
   "cell_type": "code",
   "execution_count": null,
   "metadata": {},
   "outputs": [],
   "source": [
    "LR_y_pred = LRModel.predict(X_test)\n",
    "LR_predictions = [round(value) for value in LR_y_pred]\n",
    "LR_accuracy = accuracy_score(Y_test, LR_predictions)\n",
    "print(\"Logistic Regression Accuracy: %.2f%%\" % (LR_accuracy * 100.0))\n"
   ]
  },
  {
   "cell_type": "markdown",
   "metadata": {},
   "source": [
    "## SUPPORT VECTOR MACHINE for Applied Machine Learning"
   ]
  },
  {
   "cell_type": "code",
   "execution_count": null,
   "metadata": {},
   "outputs": [],
   "source": [
    "#Using SVC method of svm class to use Support Vector Machine Algorithm\n",
    "\n",
    "from sklearn.svm import SVC\n",
    "SVM_Model = SVC(kernel = 'linear', random_state = 0)\n",
    "SVM_Model.fit(X_train, Y_train)"
   ]
  },
  {
   "cell_type": "code",
   "execution_count": null,
   "metadata": {},
   "outputs": [],
   "source": [
    "SVM_y_pred = SVM_Model.predict(X_test)\n",
    "SVM_predictions = [round(value) for value in SVM_y_pred]\n",
    "SVM_accuracy = accuracy_score(Y_test, SVM_predictions)\n",
    "print(\"Support Vector Machine Accuracy: %.2f%%\" % (SVM_accuracy * 100.0))"
   ]
  },
  {
   "cell_type": "markdown",
   "metadata": {},
   "source": [
    "## SVM KERNEL for Applied Machine Learning"
   ]
  },
  {
   "cell_type": "code",
   "execution_count": null,
   "metadata": {},
   "outputs": [],
   "source": [
    "#Using SVC method of svm class to use Kernel SVM Algorithm\n",
    "\n",
    "from sklearn.svm import SVC\n",
    "KSV_Model = SVC(kernel = 'rbf', random_state = 0)\n",
    "KSV_Model.fit(X_train, Y_train)"
   ]
  },
  {
   "cell_type": "code",
   "execution_count": null,
   "metadata": {},
   "outputs": [],
   "source": [
    "KSV_y_pred = KSV_Model.predict(X_test)\n",
    "KSV_predictions = [round(value) for value in KSV_y_pred]\n",
    "KSV_accuracy = accuracy_score(Y_test,KSV_predictions)\n",
    "print(\"Kernel SVM Accuracy: %.2f%%\" % (KSV_accuracy * 100.0))"
   ]
  },
  {
   "cell_type": "markdown",
   "metadata": {},
   "source": [
    "## NAIVE BAYES for Applied Machine Learning"
   ]
  },
  {
   "cell_type": "code",
   "execution_count": null,
   "metadata": {},
   "outputs": [],
   "source": [
    "#Using GaussianNB method of naïve_bayes class to use Naïve Bayes Algorithm\n",
    "\n",
    "from sklearn.naive_bayes import GaussianNB\n",
    "GNB_Model = GaussianNB()\n",
    "GNB_Model.fit(X_train, Y_train)\n"
   ]
  },
  {
   "cell_type": "code",
   "execution_count": null,
   "metadata": {},
   "outputs": [],
   "source": [
    "GNB_y_pred = GNB_Model.predict(X_test)\n",
    "GNB_predictions = [round(value) for value in GNB_y_pred]\n",
    "GNB_accuracy = accuracy_score(Y_test,GNB_predictions)\n",
    "print(\"Naïve Bayes Accuracy: %.2f%%\" % (GNB_accuracy * 100.0))"
   ]
  },
  {
   "cell_type": "markdown",
   "metadata": {},
   "source": [
    "## DECISION TREE for Applied Machine Learning"
   ]
  },
  {
   "cell_type": "code",
   "execution_count": null,
   "metadata": {},
   "outputs": [],
   "source": [
    "#Using DecisionTreeClassifier of tree class to use Decision Tree Algorithm\n",
    "\n",
    "from sklearn.tree import DecisionTreeClassifier\n",
    "DT_Model = DecisionTreeClassifier(criterion = 'entropy', random_state = 0)\n",
    "DT_Model.fit(X_train, Y_train)\n"
   ]
  },
  {
   "cell_type": "code",
   "execution_count": null,
   "metadata": {},
   "outputs": [],
   "source": [
    "DT_y_pred = DT_Model.predict(X_test)\n",
    "DT_predictions = [round(value) for value in DT_y_pred]\n",
    "DT_accuracy = accuracy_score(Y_test,DT_predictions)\n",
    "print(\"Decision Tree Accuracy: %.2f%%\" % (DT_accuracy * 100.0))"
   ]
  },
  {
   "cell_type": "markdown",
   "metadata": {},
   "source": [
    "## RANDOM FOREST for Applied Machine Learning"
   ]
  },
  {
   "cell_type": "code",
   "execution_count": null,
   "metadata": {},
   "outputs": [],
   "source": [
    "#Using RandomForestClassifier method of ensemble class to use Random Forest Classification algorithm\n",
    "\n",
    "from sklearn.ensemble import RandomForestClassifier\n",
    "RF_Model = RandomForestClassifier(n_estimators = 10, criterion = 'entropy', random_state = 0)\n",
    "RF_Model.fit(X_train, Y_train)"
   ]
  },
  {
   "cell_type": "code",
   "execution_count": null,
   "metadata": {},
   "outputs": [],
   "source": [
    "RF_y_pred = RF_Model.predict(X_test)\n",
    "RF_predictions = [round(value) for value in RF_y_pred]\n",
    "RF_accuracy = accuracy_score(Y_test,RF_predictions)\n",
    "print(\"Random Forest Accuracy: %.2f%%\" % (RF_accuracy * 100.0))"
   ]
  },
  {
   "cell_type": "markdown",
   "metadata": {},
   "source": [
    "## K NEIGHBORS for Applied Machine Learning"
   ]
  },
  {
   "cell_type": "code",
   "execution_count": null,
   "metadata": {},
   "outputs": [],
   "source": [
    "#Using KNeighborsClassifier Method of neighbors class to use Nearest Neighbor algorithm\n",
    "from sklearn.neighbors import KNeighborsClassifier\n",
    "KN_Model = KNeighborsClassifier(n_neighbors = 5, metric = 'minkowski', p = 2)\n",
    "KN_Model.fit(X_train, Y_train)\n",
    "\n"
   ]
  },
  {
   "cell_type": "code",
   "execution_count": null,
   "metadata": {},
   "outputs": [],
   "source": [
    "KN_y_pred = KN_Model.predict(X_test)\n",
    "KN_predictions = [round(value) for value in KN_y_pred]\n",
    "KN_accuracy = accuracy_score(Y_test, KN_predictions)\n",
    "print(\"Nearest Neighbor Accuracy: %.2f%%\" % (LR_accuracy * 100.0))"
   ]
  },
  {
   "attachments": {
    "image.png": {
     "image/png": "[encoded data removed]"
    }
   },
   "cell_type": "markdown",
   "metadata": {},
   "source": [
    "## APPLYING RANDOM FOREST MODEL INTO CONFUSION MATRIX\n",
    "\n",
    "![image.png](attachment:image.png)\n"
   ]
  },
  {
   "cell_type": "code",
   "execution_count": null,
   "metadata": {},
   "outputs": [],
   "source": [
    "###### Confusion Matrix using Random Forest Model\n",
    "\n",
    "Y_pred = RF_Model.predict(X_test)\n",
    "Y_pred\n",
    "\n",
    "####generic code\n",
    "import numpy as np\n",
    "import matplotlib.pyplot as plt\n",
    "from sklearn.metrics import confusion_matrix\n",
    "import itertools\n",
    "\n",
    "\n",
    "\n",
    "class_names=[\"Malignant\", \"Benign\"]\n",
    "\n",
    "def plot_confusion_matrix(cm, classes,\n",
    "                         normalize=False,\n",
    "                         title='Confusion matrix',\n",
    "                         cmap=plt.cm.Blues):\n",
    "   \"\"\"\n",
    "   This function prints and plots the confusion matrix.\n",
    "   Normalization can be applied by setting `normalize=True`.\n",
    "   \"\"\"\n",
    "   if normalize:\n",
    "       cm = cm.astype('float') / cm.sum(axis=1)[:, np.newaxis]\n",
    "       print(\"Normalized confusion matrix\")\n",
    "   else:\n",
    "       print('Confusion matrix, without normalization')\n",
    "\n",
    "   print(cm)\n",
    "\n",
    "   plt.imshow(cm, interpolation='nearest', cmap=cmap)\n",
    "   plt.title(title)\n",
    "   plt.colorbar()\n",
    "   tick_marks = np.arange(len(classes))\n",
    "   plt.xticks(tick_marks, classes, rotation=45)\n",
    "   plt.yticks(tick_marks, classes)\n",
    "\n",
    "   fmt = '.2f' if normalize else 'd'\n",
    "   thresh = cm.max() / 2.\n",
    "   for i, j in itertools.product(range(cm.shape[0]), range(cm.shape[1])):\n",
    "       plt.text(j, i, format(cm[i, j], fmt),\n",
    "                horizontalalignment=\"center\",\n",
    "                color=\"white\" if cm[i, j] > thresh else \"black\")\n",
    "\n",
    "   plt.ylabel('True label')\n",
    "   plt.xlabel('Predicted label')\n",
    "   plt.tight_layout()\n",
    "\n",
    "#cnf_matrix = confusion_matrix(Y_test, predictions)\n",
    "cnf_matrix =confusion_matrix(Y_test, Y_pred)\n",
    "cnf_matrix\n",
    "\n",
    "# Plot non-normalized confusion matrix\n",
    "plt.figure()\n",
    "plot_confusion_matrix(cnf_matrix, classes=class_names,\n",
    "                     title='Confusion matrix, without normalization')\n",
    "\n",
    "plt.show()\n",
    "\n",
    "# Plot normalized confusion matrix\n",
    "plt.figure()\n",
    "plot_confusion_matrix(cnf_matrix, classes=class_names, normalize=True,\n",
    "                     title='Normalized confusion matrix')\n",
    "\n",
    "plt.show()\n",
    "#Message Input\n",
    "#Message #class-exercises"
   ]
  },
  {
   "cell_type": "markdown",
   "metadata": {},
   "source": [
    "## CONFUSION MATRIX ANALYSIS\n",
    "\n",
    "\n",
    "For the above confusion matrix, we can see that the false positive = 0 and the false negative = 1. Let me remind you what does it mean.\n",
    "\n",
    "False positives (FP): We predicted yes, but they don't actually have the malignant cancer.\n",
    "False negatives (FN): We predicted no, but they actually do have the malignant cancer.\n",
    "FP is the most important indicator. To illustrate, if there is a value in FP, it means that the patient with benign cancer predicted as malignant cancer. It is very dangerous, because the patient will have the serious treatment, consume a high-dose drug category, or have a serious surgery that is actually not appropriate for such patient. If the cancer is identified as malignant, there is a sort amount of time or even no time to re-evaluate the patient, and the wrong treatment will be taken by the doctor and make the patient in danger.\n",
    "\n",
    "In contrast, a value in FN is the number of malignant patient, who are predicted as benign. There is a time to re-assess the patient in order to provide better treatment. Clearly, this not severe as the opposite situation.\n",
    "\n",
    "Because the FP is one and FN is very small (2). The predictive model using Random Forest does very well."
   ]
  },
  {
   "cell_type": "markdown",
   "metadata": {},
   "source": [
    "## Accuracies for different classification models:\n",
    "\n",
    "### 1. xgboost Accuracy: 97.37%\n",
    "### 2. Logistic Regression Accuracy: 96.49%\n",
    "### 3. Support Vector Machine Accuracy: 98.25%\n",
    "### 4. Kernel SVM Accuracy: 98.25%\n",
    "### 5. Naïve Bayes Accuracy: 90.35%\n",
    "### 6. Decision Tree Accuracy: 92.98%\n",
    "### 7. Random Forest Accuracy: 97.37%\n",
    "### 8. Nearest Neighbor Accuracy: 96.49%\n",
    "\n"
   ]
  },
  {
   "cell_type": "markdown",
   "metadata": {},
   "source": [
    "## Decision tree visualization\n"
   ]
  },
  {
   "cell_type": "code",
   "execution_count": null,
   "metadata": {},
   "outputs": [],
   "source": [
    "from sklearn.tree import DecisionTreeClassifier\n",
    "from sklearn.model_selection import train_test_split\n",
    "from sklearn.datasets import load_breast_cancer\n",
    "cancer=load_breast_cancer()\n",
    "\n",
    "X_train, X_test, y_train, y_test = train_test_split(\n",
    "    cancer.data, cancer.target, stratify=cancer.target, random_state=2017)\n",
    "tree=DecisionTreeClassifier(random_state=0)\n",
    "\n",
    "###Decision trees in scikit-learn are implemented in the DecisionTreeRegressor \n",
    "##and DecisionTreeClassifier classes. Scikit-learn only implements pre-pruning, not post- pruning.\n",
    "tree.fit(X_train,y_train)\n",
    "print(\"accuracy on training set: %f\" % tree.score(X_train, y_train))\n",
    "print('\\n'\"accuracy on test set: %f\" % tree.score(X_test, y_test))\n",
    " \n",
    "\n",
    "###apply pre-pruning to the tree, which will stop developing the tree before we\n",
    "### perfectly fit to the training data.\n",
    "tree01=DecisionTreeClassifier(max_depth=4,random_state=0)\n",
    "tree01.fit(X_train,y_train)\n",
    "print('\\n'\"accuracy on training set 01: %f\" % tree01.score(X_train, y_train))\n",
    "print('\\n'\"accuracy on test set 01: %f\" % tree01.score(X_test, y_test))\n",
    " \n",
    " \n",
    "###visualize and analyze the tree model###\n",
    "###build a file to visualize \n",
    "from sklearn.tree import export_graphviz\n",
    "export_graphviz(tree,out_file=\"mytree.dot\",class_names=['malignant',\"benign\"],\n",
    "    feature_names=cancer.feature_names,impurity=False,filled=True)\n",
    "\n",
    "###visualize the .dot file. Need to install graphviz seperately at first \n",
    "import graphviz\n",
    "with open(\"mytree.dot\") as f:\n",
    "    dot_graph=f.read()\n",
    "graphviz.Source(dot_graph)"
   ]
  },
  {
   "cell_type": "markdown",
   "metadata": {},
   "source": [
    "## Decision Tree Visualization using dtreeviz\n",
    "\n",
    "Classification tree on Breast Cancer Data: sklearn.datasets.load_breast_cancer"
   ]
  },
  {
   "cell_type": "code",
   "execution_count": null,
   "metadata": {},
   "outputs": [],
   "source": [
    "from sklearn.datasets import load_breast_cancer\n",
    "clf = DecisionTreeClassifier(max_depth=3, random_state=666)\n",
    "cancer = load_breast_cancer()\n",
    "X_train = cancer.data\n",
    "y_train = cancer.target\n",
    "\n",
    "clf.fit(X_train, y_train)\n",
    "\n",
    "X = X_train[np.random.randint(0, len(cancer)),:]\n",
    "\n",
    "viz = dtreeviz(clf, X_train, y_train, target_name='cancer',\n",
    "                  feature_names=cancer.feature_names,\n",
    "                  class_names=[\"malignant\", \"beingn\"],\n",
    "                  fancy=True,\n",
    "                  X=X,\n",
    "                  orientation=\"TD\"\n",
    "              )\n",
    "viz\n"
   ]
  },
  {
   "cell_type": "markdown",
   "metadata": {},
   "source": [
    "## Decision Tree Visualization using dtreeviz\n",
    "\n",
    "Classification tree on Breast Cancer Data CSV file\n",
    "\n",
    "Let's see visualziations on the classic multi-class Breast Cancer Dataset. It's required to pass the class_names argument for classification trees. This is required to match the legend lables with right category codes of class. The order of labels should be in sequence of class categories."
   ]
  },
  {
   "cell_type": "code",
   "execution_count": null,
   "metadata": {},
   "outputs": [],
   "source": [
    "clf = DecisionTreeClassifier(max_depth=3, random_state=666)\n",
    "\n",
    "clf.fit(X_train, y_train)\n",
    "\n",
    "X = X_train[np.random.randint(0, len(cancer)),:]\n",
    "\n",
    "viz = dtreeviz(clf, X_train, y_train, target_name='cancer',\n",
    "                  feature_names=df.columns.values,\n",
    "                  class_names=[\"malignant\", \"beingn\"],\n",
    "                  fancy=True,\n",
    "                  X=X,\n",
    "                  orientation=\"TD\"\n",
    "              )\n",
    "viz"
   ]
  },
  {
   "cell_type": "code",
   "execution_count": null,
   "metadata": {},
   "outputs": [],
   "source": [
    "X = df.iloc[:,2:32] \n",
    "#[all rows, 'diagnosis' column only which contains the classes of the cancer]\n",
    "y = df.iloc[:,1] \n",
    "X_train, X_test, y_train, y_test = train_test_split(X, y, test_size = 0.2, random_state = 42)\n",
    "\n",
    "accuracy_all = []\n",
    "cvs_all = []"
   ]
  },
  {
   "cell_type": "markdown",
   "metadata": {},
   "source": [
    "## Stochastic gradient descent (SGD)\n",
    "\n",
    "Stochastic Gradient Descent (SGD) is a simple yet very efficient approach to discriminative learning of linear classifiers under convex loss functions such as (linear) Support Vector Machines and Logistic Regression."
   ]
  },
  {
   "cell_type": "code",
   "execution_count": null,
   "metadata": {},
   "outputs": [],
   "source": [
    "from sklearn.linear_model import SGDClassifier\n",
    "import time\n",
    "start = time.time()\n",
    "\n",
    "clf = SGDClassifier(loss=\"hinge\", penalty=\"l2\", max_iter=5)\n",
    "clf.fit(X_train, y_train)\n",
    "prediction = clf.predict(X_test)\n",
    "scores = cross_val_score(clf, X, y, cv=5)\n",
    "\n",
    "end = time.time()\n",
    "\n",
    "accuracy_all.append(accuracy_score(prediction, y_test))\n",
    "cvs_all.append(np.mean(scores))\n",
    "\n",
    "print(\"SGD Classifier Accuracy: {0:.2%}\".format(accuracy_score(prediction, y_test)))\n",
    "print(\"Cross validation score: {0:.2%} (+/- {1:.2%})\".format(np.mean(scores), np.std(scores)*2))\n",
    "print(\"Execution time: {0:.5} seconds \\n\".format(end-start))"
   ]
  },
  {
   "cell_type": "markdown",
   "metadata": {},
   "source": [
    "## Plotting Learning Curves\n",
    "On the left side the learning curve of a naive Bayes classifier is shown for the digits dataset. Note that the training score and the cross-validation score are both not very good at the end. However, the shape of the curve can be found in more complex datasets very often: the training score is very high at the beginning and decreases and the cross-validation score is very low at the beginning and increases. On the right side we see the learning curve of an SVM with RBF kernel. We can see clearly that the training score is still around the maximum and the validation score could be increased with more training samples."
   ]
  },
  {
   "cell_type": "code",
   "execution_count": null,
   "metadata": {},
   "outputs": [],
   "source": [
    "print(__doc__)\n",
    "\n",
    "import numpy as np\n",
    "import matplotlib.pyplot as plt\n",
    "from sklearn.naive_bayes import GaussianNB\n",
    "from sklearn.svm import SVC\n",
    "from sklearn.datasets import load_digits\n",
    "from sklearn.model_selection import learning_curve\n",
    "from sklearn.model_selection import ShuffleSplit\n",
    "\n",
    "\n",
    "def plot_learning_curve(estimator, title, X, y, ylim=None, cv=None,\n",
    "                        n_jobs=None, train_sizes=np.linspace(.1, 1.0, 5)):\n",
    "    \"\"\"\n",
    "    Generate a simple plot of the test and training learning curve.\n",
    "\n",
    "    Parameters\n",
    "    ----------\n",
    "    estimator : object type that implements the \"fit\" and \"predict\" methods\n",
    "        An object of that type which is cloned for each validation.\n",
    "\n",
    "    title : string\n",
    "        Title for the chart.\n",
    "\n",
    "    X : array-like, shape (n_samples, n_features)\n",
    "        Training vector, where n_samples is the number of samples and\n",
    "        n_features is the number of features.\n",
    "\n",
    "    y : array-like, shape (n_samples) or (n_samples, n_features), optional\n",
    "        Target relative to X for classification or regression;\n",
    "        None for unsupervised learning.\n",
    "\n",
    "    ylim : tuple, shape (ymin, ymax), optional\n",
    "        Defines minimum and maximum yvalues plotted.\n",
    "\n",
    "    cv : int, cross-validation generator or an iterable, optional\n",
    "        Determines the cross-validation splitting strategy.\n",
    "        Possible inputs for cv are:\n",
    "          - None, to use the default 3-fold cross-validation,\n",
    "          - integer, to specify the number of folds.\n",
    "          - :term:`CV splitter`,\n",
    "          - An iterable yielding (train, test) splits as arrays of indices.\n",
    "\n",
    "        For integer/None inputs, if ``y`` is binary or multiclass,\n",
    "        :class:`StratifiedKFold` used. If the estimator is not a classifier\n",
    "        or if ``y`` is neither binary nor multiclass, :class:`KFold` is used.\n",
    "\n",
    "        Refer :ref:`User Guide <cross_validation>` for the various\n",
    "        cross-validators that can be used here.\n",
    "\n",
    "    n_jobs : int or None, optional (default=None)\n",
    "        Number of jobs to run in parallel.\n",
    "        ``None`` means 1 unless in a :obj:`joblib.parallel_backend` context.\n",
    "        ``-1`` means using all processors. See :term:`Glossary <n_jobs>`\n",
    "        for more details.\n",
    "\n",
    "    train_sizes : array-like, shape (n_ticks,), dtype float or int\n",
    "        Relative or absolute numbers of training examples that will be used to\n",
    "        generate the learning curve. If the dtype is float, it is regarded as a\n",
    "        fraction of the maximum size of the training set (that is determined\n",
    "        by the selected validation method), i.e. it has to be within (0, 1].\n",
    "        Otherwise it is interpreted as absolute sizes of the training sets.\n",
    "        Note that for classification the number of samples usually have to\n",
    "        be big enough to contain at least one sample from each class.\n",
    "        (default: np.linspace(0.1, 1.0, 5))\n",
    "    \"\"\"\n",
    "    plt.figure()\n",
    "    plt.title(title)\n",
    "    if ylim is not None:\n",
    "        plt.ylim(*ylim)\n",
    "    plt.xlabel(\"Training examples\")\n",
    "    plt.ylabel(\"Score\")\n",
    "    train_sizes, train_scores, test_scores = learning_curve(\n",
    "        estimator, X, y, cv=cv, n_jobs=n_jobs, train_sizes=train_sizes)\n",
    "    train_scores_mean = np.mean(train_scores, axis=1)\n",
    "    train_scores_std = np.std(train_scores, axis=1)\n",
    "    test_scores_mean = np.mean(test_scores, axis=1)\n",
    "    test_scores_std = np.std(test_scores, axis=1)\n",
    "    plt.grid()\n",
    "\n",
    "    plt.fill_between(train_sizes, train_scores_mean - train_scores_std,\n",
    "                     train_scores_mean + train_scores_std, alpha=0.1,\n",
    "                     color=\"r\")\n",
    "    plt.fill_between(train_sizes, test_scores_mean - test_scores_std,\n",
    "                     test_scores_mean + test_scores_std, alpha=0.1, color=\"g\")\n",
    "    plt.plot(train_sizes, train_scores_mean, 'o-', color=\"r\",\n",
    "             label=\"Training score\")\n",
    "    plt.plot(train_sizes, test_scores_mean, 'o-', color=\"g\",\n",
    "             label=\"Cross-validation score\")\n",
    "\n",
    "    plt.legend(loc=\"best\")\n",
    "    return plt\n",
    "\n",
    "\n",
    "digits = load_digits()\n",
    "X, y = digits.data, digits.target\n",
    "\n",
    "\n",
    "title = \"Learning Curves (Naive Bayes)\"\n",
    "# Cross validation with 100 iterations to get smoother mean test and train\n",
    "# score curves, each time with 20% data randomly selected as a validation set.\n",
    "cv = ShuffleSplit(n_splits=100, test_size=0.2, random_state=0)\n",
    "\n",
    "estimator = GaussianNB()\n",
    "plot_learning_curve(estimator, title, X, y, ylim=(0.7, 1.01), cv=cv, n_jobs=4)\n",
    "\n",
    "title = \"Learning Curves (SVM, RBF kernel, $\\gamma=0.001$)\"\n",
    "# SVC is more expensive so we do a lower number of CV iterations:\n",
    "cv = ShuffleSplit(n_splits=10, test_size=0.2, random_state=0)\n",
    "estimator = SVC(gamma=0.001)\n",
    "plot_learning_curve(estimator, title, X, y, (0.7, 1.01), cv=cv, n_jobs=4)\n",
    "\n",
    "plt.show()"
   ]
  },
  {
   "cell_type": "markdown",
   "metadata": {},
   "source": [
    "\n",
    "## What is Deep learning?\n",
    "Deep Learning is a subfield of machine learning concerned with algorithms inspired by the structure and function of the brain called artificial neural networks.Deep learning is a key technology behind driverless cars, enabling them to recognize a stop sign, or to distinguish a pedestrian from a lamppost. It is the key to voice control in consumer devices like phones, tablets, TVs, and hands-free speakers.\n",
    "\n",
    "## What are artificial neural networks?\n",
    "An artificial neuron network (ANN) is a computational model in which information that flows through the network affects the structure of the ANN because a neural network changes based on the input and output. ANNs are considered nonlinear statistical data modeling tools where the complex relationships between inputs and outputs are modeled or patterns are found. ANN is also known as a neural network.\n",
    "\n",
    "A single neuron is known as a perceptron. It consists of a layer of inputs(corresponds to columns of a dataframe). Each input has a weight which controls the magnitude of an input.\n",
    "The summation of the products of these input values and weights is fed to the activation function. Activation functions are really important for a Artificial Neural Network to learn and make sense of something really complicated and Non-linear complex functional mappings between the inputs and response variable. \n",
    "\n",
    "The main purpose is to introduce non-linear properties & convert a input signal of a node in a ANN to an output signal. That output signal now is used as a input in the next layer in the stack.  Specifically in ANN we do the sum of products of inputs(X) and their corresponding Weights(W) and apply a Activation function f(x) to it to get the output of that layer and feed it as an input to the next layer.\n",
    "\n",
    "(https://towardsdatascience.com/activation-functions-and-its-types-which-is-better-a9a5310cc8f)\n",
    "\n",
    "<img src=\"https://cdnpythonmachinelearning.azureedge.net/wp-content/uploads/2017/09/Single-Perceptron.png\">\n",
    "\n",
    "\n",
    "The **ReLU** function is f(x)=max(0,x). Usually this is applied element-wise to the output of some other function, such as a matrix-vector product. In MLP usages, rectifier units replace all other activation functions except perhaps the readout layer. But I suppose you could mix-and-match them if you'd like. One way ReLUs improve neural networks is by speeding up training. The gradient computation is very simple (either 0 or 1 depending on the sign of x). Also, the computational step of a ReLU is easy: any negative elements are set to 0.0 -- no exponentials, no multiplication or division operations. Gradients of logistic and hyperbolic tangent networks are smaller than the positive portion of the ReLU. This means that the positive portion is updated more rapidly as training progresses. However, this comes at a cost. The 0 gradient on the left-hand side is has its own problem, called \"dead neurons,\" in which a gradient update sets the incoming values to a ReLU such that the output is always zero; modified ReLU units such as ELU (or Leaky ReLU etc.) can minimize this.\n",
    "\n",
    "(https://stats.stackexchange.com/questions/226923/why-do-we-use-relu-in-neural-networks-and-how-do-we-use-it)\n",
    "\n",
    "input_dim - number of columns of the dataset \n",
    "\n",
    "output_dim - number of outputs to be fed to the next layer, if any\n",
    "\n",
    "activation - activation function which is ReLU in this case\n",
    "\n",
    "init - the way in which weights should be provided to an ANN\n",
    "\n",
    "Sigmoid function is used when dealing with classfication problems with 2 types of results.(Submax function is used for 3 or more classification results)\n",
    "<img src=\"https://cdn-images-1.medium.com/max/1000/1*Xu7B5y9gp0iL5ooBj7LtWw.png\">\n",
    "\n",
    "Optimizer is chosen as adam for gradient descent.\n",
    "\n",
    "Binary_crossentropy is the loss function used. \n",
    "\n",
    "Cross-entropy loss, or log loss, measures the performance of a classification model whose output is a probability value between 0 and 1. Cross-entropy loss increases as the predicted probability diverges from the actual label. So predicting a probability of .012 when the actual observation label is 1 would be bad and result in a high loss value. A perfect model would have a log loss of 0. \n",
    "\n",
    "(http://ml-cheatsheet.readthedocs.io/en/latest/loss_functions.html)"
   ]
  },
  {
   "cell_type": "code",
   "execution_count": null,
   "metadata": {},
   "outputs": [],
   "source": [
    "# Importing data\n",
    "data = pd.read_csv('Resources/data.csv')\n",
    "del data['Unnamed: 32']"
   ]
  },
  {
   "cell_type": "code",
   "execution_count": null,
   "metadata": {},
   "outputs": [],
   "source": [
    "X = data.iloc[:, 2:].values\n",
    "y = data.iloc[:, 1].values\n",
    "\n",
    "# Encoding categorical data\n",
    "from sklearn.preprocessing import LabelEncoder\n",
    "labelencoder_X_1 = LabelEncoder()\n",
    "y = labelencoder_X_1.fit_transform(y)\n",
    "\n",
    "# Splitting the dataset into the Training set and Test set\n",
    "from sklearn.model_selection import train_test_split\n",
    "X_train, X_test, Y_train, Y_test = train_test_split(X, y, test_size = 0.1, random_state = 0)\n",
    "\n",
    "#Feature Scaling\n",
    "from sklearn.preprocessing import StandardScaler\n",
    "sc = StandardScaler()\n",
    "X_train = sc.fit_transform(X_train)\n",
    "X_test = sc.transform(X_test)"
   ]
  },
  {
   "cell_type": "code",
   "execution_count": null,
   "metadata": {},
   "outputs": [],
   "source": [
    "# Initializing the ANN\n",
    "classifier = Sequential()"
   ]
  },
  {
   "cell_type": "code",
   "execution_count": null,
   "metadata": {},
   "outputs": [],
   "source": [
    "# Adding the input layer and the first hidden layer\n",
    "classifier.add(Dense(output_dim=16, init='uniform', activation='relu', input_dim=30))\n",
    "# Adding dropout to prevent overfitting\n",
    "classifier.add(Dropout(p=0.1))"
   ]
  },
  {
   "cell_type": "code",
   "execution_count": null,
   "metadata": {},
   "outputs": [],
   "source": [
    "# Adding the second hidden layer\n",
    "classifier.add(Dense(output_dim=16, init='uniform', activation='relu'))\n",
    "# Adding dropout to prevent overfitting\n",
    "classifier.add(Dropout(p=0.1))"
   ]
  },
  {
   "cell_type": "code",
   "execution_count": null,
   "metadata": {},
   "outputs": [],
   "source": [
    "# Adding the output layer\n",
    "classifier.add(Dense(output_dim=1, init='uniform', activation='sigmoid'))"
   ]
  },
  {
   "cell_type": "code",
   "execution_count": null,
   "metadata": {},
   "outputs": [],
   "source": [
    "# Compiling the ANN\n",
    "classifier.compile(optimizer='adam', loss='binary_crossentropy', metrics=['accuracy'])"
   ]
  },
  {
   "cell_type": "code",
   "execution_count": null,
   "metadata": {},
   "outputs": [],
   "source": [
    "# Fitting the ANN to the Training set\n",
    "classifier.fit(X_train, Y_train, batch_size=100, nb_epoch=150)\n",
    " "
   ]
  },
  {
   "cell_type": "code",
   "execution_count": null,
   "metadata": {},
   "outputs": [],
   "source": [
    "# Predicting the Test set results\n",
    "y_pred = classifier.predict(X_test)\n",
    "y_pred = (y_pred > 0.5)"
   ]
  },
  {
   "cell_type": "code",
   "execution_count": null,
   "metadata": {},
   "outputs": [],
   "source": [
    "# Making the Confusion Matrix\n",
    "from sklearn.metrics import confusion_matrix\n",
    "cm = confusion_matrix(Y_test, y_pred)"
   ]
  },
  {
   "cell_type": "code",
   "execution_count": null,
   "metadata": {},
   "outputs": [],
   "source": [
    "print(\"Artificial Neuron Network Accuracy is {}%\".format(((cm[0][0] + cm[1][1])/57)*100))"
   ]
  },
  {
   "cell_type": "code",
   "execution_count": null,
   "metadata": {},
   "outputs": [],
   "source": [
    "seabornInstance.heatmap(cm,annot=True)\n",
    "#Malignant:1, Benign:0"
   ]
  },
  {
   "cell_type": "code",
   "execution_count": null,
   "metadata": {},
   "outputs": [],
   "source": []
  },
  {
   "cell_type": "code",
   "execution_count": null,
   "metadata": {},
   "outputs": [],
   "source": []
  },
  {
   "cell_type": "code",
   "execution_count": null,
   "metadata": {},
   "outputs": [],
   "source": []
  }
 ],
 "metadata": {
  "celltoolbar": "Create Assignment",
  "kernelspec": {
   "display_name": "Python 3",
   "language": "python",
   "name": "python3"
  },
  "language_info": {
   "codemirror_mode": {
    "name": "ipython",
    "version": 3
   },
   "file_extension": ".py",
   "mimetype": "text/x-python",
   "name": "python",
   "nbconvert_exporter": "python",
   "pygments_lexer": "ipython3",
   "version": "3.6.5"
  },
  "varInspector": {
   "cols": {
    "lenName": 16,
    "lenType": 16,
    "lenVar": 40
   },
   "kernels_config": {
    "python": {
     "delete_cmd_postfix": "",
     "delete_cmd_prefix": "del ",
     "library": "var_list.py",
     "varRefreshCmd": "print(var_dic_list())"
    },
    "r": {
     "delete_cmd_postfix": ") ",
     "delete_cmd_prefix": "rm(",
     "library": "var_list.r",
     "varRefreshCmd": "cat(var_dic_list()) "
    }
   },
   "types_to_exclude": [
    "module",
    "function",
    "builtin_function_or_method",
    "instance",
    "_Feature"
   ],
   "window_display": false
  }
 },
 "nbformat": 4,
 "nbformat_minor": 2
}
